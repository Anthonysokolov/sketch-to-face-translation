{
 "cells": [
  {
   "cell_type": "markdown",
   "metadata": {},
   "source": [
    "# Pix2Pix GAN\n",
    "\n",
    "In this notebook we create and train the Pix2Pix GAN architecture, which is a type of conditional GAN, or cGAN.\n",
    "\n",
    "## Dataset\n",
    "\n",
    "We will use the face image and coressponding face edges from our data folder. \n",
    "\n",
    "## Goals\n",
    "\n",
    "For this notebook I will:\n",
    "<!-- 1. Exploratory Data Analysis \n",
    "2. Train the Gaussian NB model called gaussianNB_clf.\n",
    "3. Analyze Model Performance \n",
    "4. Evaluate the model on Test Data\n",
    "5. Written Report -->"
   ]
  },
  {
   "cell_type": "markdown",
   "metadata": {},
   "source": [
    "## Import Libraries and Load data"
   ]
  },
  {
   "cell_type": "code",
   "execution_count": 13,
   "metadata": {},
   "outputs": [],
   "source": [
    "import torch\n",
    "from torch import nn\n",
    "from tqdm.auto import tqdm\n",
    "from torchvision import datasets, transforms\n",
    "from torchvision.utils import make_grid\n",
    "from torch.utils.data import DataLoader\n",
    "import torch.nn.functional as F\n",
    "%matplotlib inline\n",
    "import matplotlib.pyplot as plt\n",
    "torch.manual_seed(0)\n",
    "import helper\n",
    "\n",
    "# Ignore warnings\n",
    "import warnings\n",
    "warnings.filterwarnings(\"ignore\")\n",
    "\n",
    "data_dir = '../data/'\n",
    "\n",
    "# We transform the data to tensors and resize them to desired size (O(1) operation)\n",
    "def load_data_sets(data_dir,batch_size):\n",
    "    transform = transforms.Compose([transforms.Resize(256),\n",
    "                                    transforms.ToTensor()])\n",
    "    dataset = datasets.ImageFolder(data_dir, transform=transform)\n",
    "    dataloader = DataLoader(dataset, batch_size=batch_size, shuffle=True)\n",
    "\n",
    "#     images, labels = next(iter(dataloader))\n",
    "    # helper.imshow(images[0], normalize=False)\n",
    "    return dataloader\n",
    "\n",
    "def show_tensor_images(image_tensor, num_images=25, size=(1, 256, 256)):\n",
    "    image_shifted = image_tensor\n",
    "    image_unflat = image_shifted.detach().cpu().view(-1, *size)\n",
    "    image_grid = make_grid(image_unflat[:num_images], nrow=5)\n",
    "    plt.imshow(image_grid.permute(1, 2, 0).squeeze())\n",
    "    plt.show()"
   ]
  },
  {
   "cell_type": "markdown",
   "metadata": {},
   "source": [
    "## U-Net "
   ]
  },
  {
   "cell_type": "code",
   "execution_count": 3,
   "metadata": {},
   "outputs": [],
   "source": []
  },
  {
   "cell_type": "markdown",
   "metadata": {},
   "source": [
    "## PatchGAN Discriminator"
   ]
  },
  {
   "cell_type": "code",
   "execution_count": null,
   "metadata": {},
   "outputs": [],
   "source": []
  },
  {
   "cell_type": "markdown",
   "metadata": {},
   "source": [
    "## Training Preparation\n",
    "Parameters needed to be set in order to train correctly:\n",
    "  *   **real_dim**: the number of channels of the real image and the number expected in the output image\n",
    "  *   **adv_criterion**: an adversarial loss function to keep track of how well the GAN is fooling the discriminator and how well the discriminator is catching the GAN\n",
    "  *   **recon_criterion**: a loss function that rewards similar images to the ground truth, which \"reconstruct\" the image\n",
    "  *   **lambda_recon**: a parameter for how heavily the reconstruction loss should be weighed\n",
    "  *   **n_epochs**: the number of times you iterate through the entire dataset when training\n",
    "  *   **input_dim**: the number of channels of the input image\n",
    "  *   **display_step**: how often to display/visualize the images\n",
    "  *   **batch_size**: the number of images per forward/backward pass\n",
    "  *   **lr**: the learning rate\n",
    "  *   **target_shape**: the size of the output image (in pixels)\n",
    "  *   **device**: the device type"
   ]
  },
  {
   "cell_type": "code",
   "execution_count": 12,
   "metadata": {},
   "outputs": [],
   "source": [
    "real_dim = 3\n",
    "adv_criterion = nn.BCEWithLogitsLoss() \n",
    "recon_criterion = nn.L1Loss() \n",
    "lambda_recon = 200\n",
    "n_epochs = 20\n",
    "input_dim = 3\n",
    "display_step = 200\n",
    "batch_size = 4\n",
    "lr = 0.0002\n",
    "target_shape = 256\n",
    "device = 'cpu' # use 'cuda' if this is running on a gpu "
   ]
  },
  {
   "cell_type": "code",
   "execution_count": null,
   "metadata": {},
   "outputs": [],
   "source": []
  }
 ],
 "metadata": {
  "kernelspec": {
   "display_name": "Python 3",
   "language": "python",
   "name": "python3"
  },
  "language_info": {
   "codemirror_mode": {
    "name": "ipython",
    "version": 3
   },
   "file_extension": ".py",
   "mimetype": "text/x-python",
   "name": "python",
   "nbconvert_exporter": "python",
   "pygments_lexer": "ipython3",
   "version": "3.6.11"
  }
 },
 "nbformat": 4,
 "nbformat_minor": 4
}
